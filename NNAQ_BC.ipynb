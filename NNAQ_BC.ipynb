{
  "nbformat": 4,
  "nbformat_minor": 0,
  "metadata": {
    "colab": {
      "name": "NNAQ_BC.ipynb",
      "provenance": [],
      "toc_visible": true,
      "mount_file_id": "https://github.com/BlackCranium/NNAQ_BC/blob/master/NNAQ_BC.ipynb",
      "authorship_tag": "ABX9TyMO5I9G8ncwkjkVp8cQsfqE",
      "include_colab_link": true
    },
    "kernelspec": {
      "name": "python3",
      "display_name": "Python 3"
    },
    "language_info": {
      "name": "python"
    }
  },
  "cells": [
    {
      "cell_type": "markdown",
      "metadata": {
        "id": "view-in-github",
        "colab_type": "text"
      },
      "source": [
        "<a href=\"https://colab.research.google.com/github/BlackCranium/NNAQ_BC/blob/master/NNAQ_BC.ipynb\" target=\"_parent\"><img src=\"https://colab.research.google.com/assets/colab-badge.svg\" alt=\"Open In Colab\"/></a>"
      ]
    },
    {
      "cell_type": "markdown",
      "metadata": {
        "id": "rac2zfXwi0b-"
      },
      "source": [
        ">источник: https://tproger.ru/articles/kejs-habib-vs-makgregor-ili-raspoznavanie-lic-na-python/?utm_medium=messenger&utm_source=telegram  \n",
        ">Кейс: Хабиб vs МакГрегор или Распознавание лиц на Python\n",
        "\n",
        "\n",
        "# Эксперимент (jupyther + colab + github + google drive)\n",
        "\n",
        "## Этап 1. Подключение модулей\n",
        "подключим необходимые библиотеки. \n",
        "В Colab большинство библиотек уже установлено, поэтому нам осталось их только импортировать:\n",
        "\n",
        "\n",
        "*   `cv2` — для загрузки и обработки изображений;\n",
        "*   `dlib` — для детекции лиц;\n",
        "*   `numpy` — для работы с матрицами.\n"
      ]
    },
    {
      "cell_type": "code",
      "metadata": {
        "id": "WuBSEaf7ihcB"
      },
      "source": [
        "import cv2, dlib\n",
        "import numpy as np"
      ],
      "execution_count": null,
      "outputs": []
    },
    {
      "cell_type": "markdown",
      "metadata": {
        "id": "WOO6lkCytFo-"
      },
      "source": [
        "устанавливаем библиотеку `face_recognition` — с ее помощью мы будем обрабатывать лицо нейронной сетью.\n",
        ">Вообще сделать полную обработку можно всего за несколько строчек кода, потому что в библиотеке `face_recognition` многие процессы (например, детекция лиц) уже завернуты в функции. Но мы намеренно некоторые вещи будем делать «с нуля», чтобы вы лучше во всем разобрались."
      ]
    },
    {
      "cell_type": "code",
      "metadata": {
        "colab": {
          "base_uri": "https://localhost:8080/"
        },
        "id": "Gu_rg698nJ1J",
        "outputId": "7a667915-90b6-4dc2-bd55-4e7f2679c7b8"
      },
      "source": [
        "pip install face_recognition"
      ],
      "execution_count": 8,
      "outputs": [
        {
          "output_type": "stream",
          "text": [
            "Requirement already satisfied: face_recognition in /usr/local/lib/python3.7/dist-packages (1.3.0)\n",
            "Requirement already satisfied: Pillow in /usr/local/lib/python3.7/dist-packages (from face_recognition) (7.0.0)\n",
            "Requirement already satisfied: Click>=6.0 in /usr/local/lib/python3.7/dist-packages (from face_recognition) (7.1.2)\n",
            "Requirement already satisfied: numpy in /usr/local/lib/python3.7/dist-packages (from face_recognition) (1.19.5)\n",
            "Requirement already satisfied: face-recognition-models>=0.3.0 in /usr/local/lib/python3.7/dist-packages (from face_recognition) (0.3.0)\n",
            "Requirement already satisfied: dlib>=19.7 in /usr/local/lib/python3.7/dist-packages (from face_recognition) (19.18.0)\n"
          ],
          "name": "stdout"
        }
      ]
    },
    {
      "cell_type": "markdown",
      "metadata": {
        "id": "64XSnAiNt6qo"
      },
      "source": [
        "## Этап 2. Первичная настройка\n",
        "\n",
        "Теперь нам нужно произвести небольшую настройку, чтобы потом полноценно использовать все инструменты и кодовую базу.\n",
        "\n",
        "Начнем с настройки детектора лиц. Сначала скачиваем файл с готовой моделью с помощью команды `wget` и распаковываем файл в формат ***.dat***."
      ]
    },
    {
      "cell_type": "code",
      "metadata": {
        "id": "2xk95WPluYRI"
      },
      "source": [
        "%%bash\n",
        "wget http://dlib.net/files/shape_predictor_68_face_landmarks.dat.bz2\n",
        "bunzip2 shape_predictor_68_face_landmarks.dat.bz2"
      ],
      "execution_count": null,
      "outputs": []
    }
  ]
}