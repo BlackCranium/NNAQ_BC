{
  "nbformat": 4,
  "nbformat_minor": 0,
  "metadata": {
    "colab": {
      "name": "NNAQ_BC.ipynb",
      "provenance": [],
      "authorship_tag": "ABX9TyNUPKy6OpsHTHRvj6UmkQb8",
      "include_colab_link": true
    },
    "kernelspec": {
      "name": "python3",
      "display_name": "Python 3"
    },
    "language_info": {
      "name": "python"
    }
  },
  "cells": [
    {
      "cell_type": "markdown",
      "metadata": {
        "id": "view-in-github",
        "colab_type": "text"
      },
      "source": [
        "<a href=\"https://colab.research.google.com/github/BlackCranium/NNAQ_BC/blob/master/NNAQ_BC.ipynb\" target=\"_parent\"><img src=\"https://colab.research.google.com/assets/colab-badge.svg\" alt=\"Open In Colab\"/></a>"
      ]
    },
    {
      "cell_type": "markdown",
      "metadata": {
        "id": "rac2zfXwi0b-"
      },
      "source": [
        ">источник: https://tproger.ru/articles/kejs-habib-vs-makgregor-ili-raspoznavanie-lic-na-python/?utm_medium=messenger&utm_source=telegram  \n",
        ">Кейс: Хабиб vs МакГрегор или Распознавание лиц на Python\n",
        "\n",
        "\n",
        "# Эксперимент (jupyther + colab + github + google drive)\n",
        "\n",
        "подключим необходимые библиотеки. \n",
        "В Colab большинство библиотек уже установлено, поэтому нам осталось их только импортировать:\n",
        "\n",
        "\n",
        "*   cv2 — для загрузки и обработки изображений;\n",
        "*   dlib — для детекции лиц;\n",
        "*   numpy — для работы с матрицами.\n"
      ]
    },
    {
      "cell_type": "code",
      "metadata": {
        "id": "WuBSEaf7ihcB"
      },
      "source": [
        "import cv2, dlib\n",
        "import numpy as np\n"
      ],
      "execution_count": null,
      "outputs": []
    },
    {
      "cell_type": "code",
      "metadata": {
        "colab": {
          "base_uri": "https://localhost:8080/"
        },
        "id": "Gu_rg698nJ1J",
        "outputId": "72732bfd-70b2-4211-8074-0220768fff93"
      },
      "source": [
        "def add(a,b):\n",
        "  return a+b\n",
        "\n",
        "add(2,6)"
      ],
      "execution_count": 5,
      "outputs": [
        {
          "output_type": "execute_result",
          "data": {
            "text/plain": [
              "8"
            ]
          },
          "metadata": {
            "tags": []
          },
          "execution_count": 5
        }
      ]
    }
  ]
}