{
  "nbformat": 4,
  "nbformat_minor": 0,
  "metadata": {
    "colab": {
      "name": "NNAQ_BC.ipynb",
      "provenance": [],
      "authorship_tag": "ABX9TyOQCQAk+vgf1KUih+ZRgkal",
      "include_colab_link": true
    },
    "kernelspec": {
      "name": "python3",
      "display_name": "Python 3"
    },
    "language_info": {
      "name": "python"
    }
  },
  "cells": [
    {
      "cell_type": "markdown",
      "metadata": {
        "id": "view-in-github",
        "colab_type": "text"
      },
      "source": [
        "<a href=\"https://colab.research.google.com/github/BlackCranium/NNAQ_BC/blob/master/NNAQ_BC.ipynb\" target=\"_parent\"><img src=\"https://colab.research.google.com/assets/colab-badge.svg\" alt=\"Open In Colab\"/></a>"
      ]
    },
    {
      "cell_type": "markdown",
      "metadata": {
        "id": "rac2zfXwi0b-"
      },
      "source": [
        "подключим необходимые библиотеки. \n",
        "В Colab большинство библиотек уже установлено, поэтому нам осталось их только импортировать:\n",
        "\n",
        "\n",
        "*   cv2 — для загрузки и обработки изображений;\n",
        "*   dlib — для детекции лиц;\n",
        "*   numpy — для работы с матрицами.\n"
      ]
    },
    {
      "cell_type": "code",
      "metadata": {
        "id": "WuBSEaf7ihcB"
      },
      "source": [
        ""
      ],
      "execution_count": null,
      "outputs": []
    }
  ]
}